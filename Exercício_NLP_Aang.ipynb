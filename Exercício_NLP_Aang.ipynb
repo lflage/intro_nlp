{
 "cells": [
  {
   "cell_type": "code",
   "execution_count": 3,
   "id": "9314198f",
   "metadata": {},
   "outputs": [],
   "source": [
    "import requests, re, nltk\n",
    "from nltk.corpus import PlaintextCorpusReader"
   ]
  },
  {
   "cell_type": "code",
   "execution_count": 37,
   "id": "b0806dba",
   "metadata": {},
   "outputs": [],
   "source": [
    "def corpus_summary(epi):\n",
    "    n_tokens = len(epi)\n",
    "    n_types = len(set(epi))\n",
    "    print('Nr tokens: {0} \\nNr types: {1} \\nDiversidade Lexical: {2:.3g}'.format(\n",
    "    n_tokens,n_types, n_types/n_tokens))\n",
    "    \n",
    "def corpus_processing(epi):\n",
    "    new = []\n",
    "    for word in epi:\n",
    "        if word.isalpha():\n",
    "            new.append(word.lower())\n",
    "    return new\n"
   ]
  },
  {
   "cell_type": "code",
   "execution_count": 5,
   "id": "a752e46a",
   "metadata": {},
   "outputs": [],
   "source": [
    "tloa = PlaintextCorpusReader('./LoA_scripts/', '.*')"
   ]
  },
  {
   "cell_type": "markdown",
   "id": "4bcf91fd",
   "metadata": {},
   "source": [
    "## Collocations"
   ]
  },
  {
   "cell_type": "code",
   "execution_count": 24,
   "id": "752fc7e8",
   "metadata": {},
   "outputs": [
    {
     "name": "stdout",
     "output_type": "stream",
     "text": [
      "Chit Sang; Male guard; Fire Nation; Bully guard; two guards; Female\n",
      "guard; Water Tribe; Boiling Rock; overhead shot; hot squat; frontal\n",
      "shot; bully guard; interrogation room; war balloon; escape plan; cell\n",
      "door; helmet mask; Frontal shot; camera pans; Tough prisoner\n"
     ]
    }
   ],
   "source": [
    "epi_1 = tloa.words('51_The_Boiling_Rock')\n",
    "nltk.Text(epi_1).collocations()"
   ]
  },
  {
   "cell_type": "code",
   "execution_count": 25,
   "id": "0f868a80",
   "metadata": {},
   "outputs": [
    {
     "name": "stdout",
     "output_type": "stream",
     "text": [
      "Shot cuts; Scene changes; marching home; pygmy pumas; overhead shot;\n",
      "soldier boy; Camera pans; Ladies Oooooh; armadillo lion; elephant\n",
      "mandrill; three girls; air scooter; creatures following; Huge round;\n",
      "camera zooms; romantic picnic; tiny shells; wreaking havoc; ladies\n",
      "laugh; Team Avatar\n"
     ]
    }
   ],
   "source": [
    "epi_2 = tloa.words('33_The_Tales_of_Ba_Sing_Se')\n",
    "nltk.Text(epi_2).collocations()"
   ]
  },
  {
   "cell_type": "markdown",
   "id": "466420c3",
   "metadata": {},
   "source": [
    "## Tokens e Types"
   ]
  },
  {
   "cell_type": "code",
   "execution_count": 9,
   "id": "4e518182",
   "metadata": {},
   "outputs": [
    {
     "name": "stdout",
     "output_type": "stream",
     "text": [
      "Nr tokens: 12780 \n",
      "Nr types: 1805 \n",
      "Diversidade Lexical: 0.141\n"
     ]
    }
   ],
   "source": [
    "corpus_summary(epi_1)"
   ]
  },
  {
   "cell_type": "code",
   "execution_count": 12,
   "id": "97811d25",
   "metadata": {},
   "outputs": [
    {
     "name": "stdout",
     "output_type": "stream",
     "text": [
      "Nr tokens: 7412 \n",
      "Nr types: 1453 \n",
      "Diversidade Lexical: 0.196\n"
     ]
    }
   ],
   "source": [
    "corpus_summary(epi_2)"
   ]
  },
  {
   "cell_type": "markdown",
   "id": "19c84103",
   "metadata": {},
   "source": [
    "## Formatação"
   ]
  },
  {
   "cell_type": "code",
   "execution_count": 31,
   "id": "c3562f19",
   "metadata": {},
   "outputs": [
    {
     "name": "stdout",
     "output_type": "stream",
     "text": [
      "10303\n",
      "['the', 'scene', 'opens', 'to', 'the', 'western', 'air', 'temple', 'at', 'nightfall', 'zuko', 'is', 'pouring', 'tea', 'to', 'give', 'to', 'the', 'members', 'of']\n"
     ]
    }
   ],
   "source": [
    "new_1 = corpus_processing(epi_1)\n",
    "\n",
    "print(len(new_1))\n",
    "print(new_1[:20])"
   ]
  },
  {
   "cell_type": "code",
   "execution_count": 32,
   "id": "dbab5e26",
   "metadata": {},
   "outputs": [
    {
     "name": "stdout",
     "output_type": "stream",
     "text": [
      "6273\n",
      "['scene', 'fades', 'to', 'an', 'exterior', 'shot', 'of', 'team', 'avatar', 's', 'house', 'shot', 'cuts', 'to', 'a', 'mirror', 'in', 'front', 'of', 'which']\n"
     ]
    }
   ],
   "source": [
    "new_2 = corpus_processing(epi_2)\n",
    "\n",
    "print(len(new_2))\n",
    "print(new_2[:20])"
   ]
  },
  {
   "cell_type": "markdown",
   "id": "48b676f9",
   "metadata": {},
   "source": [
    "## Frequências entre episódios"
   ]
  },
  {
   "cell_type": "code",
   "execution_count": 35,
   "id": "497b0db0",
   "metadata": {},
   "outputs": [
    {
     "data": {
      "text/plain": [
       "15"
      ]
     },
     "execution_count": 35,
     "metadata": {},
     "output_type": "execute_result"
    }
   ],
   "source": [
    "new_1.count('water')"
   ]
  },
  {
   "cell_type": "code",
   "execution_count": 36,
   "id": "27a370aa",
   "metadata": {},
   "outputs": [
    {
     "data": {
      "text/plain": [
       "4"
      ]
     },
     "execution_count": 36,
     "metadata": {},
     "output_type": "execute_result"
    }
   ],
   "source": [
    "new_2.count('water')"
   ]
  }
 ],
 "metadata": {
  "kernelspec": {
   "display_name": "Python 3",
   "language": "python",
   "name": "python3"
  },
  "language_info": {
   "codemirror_mode": {
    "name": "ipython",
    "version": 3
   },
   "file_extension": ".py",
   "mimetype": "text/x-python",
   "name": "python",
   "nbconvert_exporter": "python",
   "pygments_lexer": "ipython3",
   "version": "3.8.8"
  }
 },
 "nbformat": 4,
 "nbformat_minor": 5
}
